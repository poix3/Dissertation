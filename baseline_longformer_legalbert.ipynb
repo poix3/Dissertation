{
  "nbformat": 4,
  "nbformat_minor": 0,
  "metadata": {
    "colab": {
      "provenance": []
    },
    "kernelspec": {
      "name": "python3",
      "display_name": "Python 3"
    },
    "language_info": {
      "name": "python"
    },
    "accelerator": "GPU",
    "gpuClass": "standard"
  },
  "cells": [
    {
      "cell_type": "code",
      "execution_count": null,
      "metadata": {
        "id": "dxCQhw5rpXbh"
      },
      "outputs": [],
      "source": [
        "! pip install transformers\n",
        "! pip install datasets"
      ]
    },
    {
      "cell_type": "code",
      "source": [
        "import copy\n",
        "import torch\n",
        "import torch.nn as nn\n",
        "import numpy as np\n",
        "from sklearn.metrics import f1_score, roc_auc_score, accuracy_score\n",
        "from transformers import (BertModel, BertTokenizer, LongformerForSequenceClassification,\n",
        "                          TrainingArguments, Trainer, EvalPrediction)\n",
        "from transformers.models.longformer.modeling_longformer import (LongformerSelfAttention, LongformerIntermediate, \n",
        "                                                                LongformerOutput, LongformerAttention, LongformerSelfOutput)\n",
        "from datasets import load_dataset"
      ],
      "metadata": {
        "id": "xKXYGrIEpokK"
      },
      "execution_count": null,
      "outputs": []
    },
    {
      "cell_type": "code",
      "source": [
        "lf = LongformerForSequenceClassification.from_pretrained(\n",
        "    \"allenai/longformer-base-4096\", \n",
        "    num_labels = 11, \n",
        "    problem_type=\"multi_label_classification\")\n",
        "legal_bert = BertModel.from_pretrained(\"nlpaueb/legal-bert-base-uncased\")\n",
        "tokenizer = BertTokenizer.from_pretrained(\"nlpaueb/legal-bert-base-uncased\")\n",
        "dataset = load_dataset(\"coastalcph/fairlex\", 'ecthr')"
      ],
      "metadata": {
        "id": "4vqvQoOqxaPR"
      },
      "execution_count": null,
      "outputs": []
    },
    {
      "cell_type": "code",
      "source": [
        "with torch.no_grad():\n",
        "\n",
        "    max_pos = 4096\n",
        "    config = lf.config\n",
        "\n",
        "    # with legal-bert tokenizer, NOT longformer\n",
        "    tokenizer.model_max_length = max_pos\n",
        "    tokenizer.init_kwargs['model_max_length'] = max_pos\n",
        "\n",
        "    '''\n",
        "        Embeddings:\n",
        "            word_embeddings:\n",
        "            position_embeddings:\n",
        "            token_type_embeddings: default\n",
        "            LayerNorm:\n",
        "    '''\n",
        "    # change word_embeddings\n",
        "    config.vocab_size = 30522 # vocab_size of legal-bert\n",
        "    new_word_embed = nn.Embedding(config.vocab_size, config.hidden_size, padding_idx=config.pad_token_id)\n",
        "    new_word_embed.weight = nn.Parameter(legal_bert.embeddings.word_embeddings.weight)\n",
        "    lf.longformer.embeddings.word_embeddings = new_word_embed\n",
        "    \n",
        "    # extend position embeddings\n",
        "    max_pos += 2\n",
        "    embed_size = legal_bert.embeddings.position_embeddings.weight.shape[1]\n",
        "    new_pos_embed = torch.empty((max_pos, embed_size))\n",
        "    # copy position embeddings over and over to initialize the new position embeddings\n",
        "    ## Leave the positional embeddings at indices 0 and 1 unchanged\n",
        "    new_pos_embed[0:2] = lf.longformer.embeddings.position_embeddings.weight[0:2]\n",
        "    # copy position embeddings over and over to initialize the new position embeddings\n",
        "    k = 2\n",
        "    step = 512\n",
        "    while k < max_pos-1:\n",
        "        new_pos_embed[k:(k + step)] = legal_bert.embeddings.position_embeddings.weight\n",
        "        k += step\n",
        "\n",
        "    lf.longformer.embeddings.position_embeddings.weight = nn.Parameter(new_pos_embed)\n",
        "\n",
        "    # LayerNorm\n",
        "    lf.longformer.embeddings.LayerNorm.weight = nn.Parameter(legal_bert.embeddings.LayerNorm.weight)\n",
        "    lf.longformer.embeddings.LayerNorm.bias = nn.Parameter(legal_bert.embeddings.LayerNorm.bias)\n",
        "\n",
        "    '''\n",
        "        Each layer:\n",
        "            attention: local/global attention, attention output\n",
        "            intermediate: ...\n",
        "            output ...\n",
        "    '''\n",
        "    for i, (lf_layer, bert_layer) in enumerate(zip(lf.longformer.encoder.layer, legal_bert.encoder.layer)):\n",
        "        # attention\n",
        "        longformer_self_attn = LongformerSelfAttention(config, layer_id = i)\n",
        "        ## local attention\n",
        "        longformer_self_attn.query = bert_layer.attention.self.query\n",
        "        longformer_self_attn.key = bert_layer.attention.self.key\n",
        "        longformer_self_attn.value = bert_layer.attention.self.value\n",
        "        ## global attention\n",
        "        longformer_self_attn.query_global = copy.deepcopy(bert_layer.attention.self.query)\n",
        "        longformer_self_attn.key_global = copy.deepcopy(bert_layer.attention.self.key)\n",
        "        longformer_self_attn.value_global = copy.deepcopy(bert_layer.attention.self.value)\n",
        "\n",
        "        lf_layer.attention.self = longformer_self_attn\n",
        "\n",
        "        ## attention output\n",
        "        longformer_self_output = LongformerSelfOutput(config)\n",
        "        longformer_self_output.dense = bert_layer.attention.output.dense\n",
        "        longformer_self_output.LayerNorm = bert_layer.attention.output.LayerNorm\n",
        "\n",
        "        lf_layer.attention.output = longformer_self_output\n",
        "\n",
        "        # intermediate\n",
        "        longformer_inter = LongformerIntermediate(config)\n",
        "        longformer_inter.dense = bert_layer.intermediate.dense\n",
        "        lf_layer.intermediate = longformer_inter\n",
        "\n",
        "        # output\n",
        "        longformer_output = LongformerOutput(config)\n",
        "        longformer_output.dense = bert_layer.output.dense\n",
        "        longformer_output.LayerNorm = bert_layer.output.LayerNorm\n",
        "        lf_layer.output = longformer_output"
      ],
      "metadata": {
        "id": "qpM-nvcCxb1D"
      },
      "execution_count": null,
      "outputs": []
    },
    {
      "cell_type": "code",
      "source": [
        "def tokenize_function(examples):\n",
        "    text = examples[\"text\"]\n",
        "    encoding = tokenizer(text, padding=\"max_length\", truncation=True)\n",
        "    labels_matrix = np.zeros((len(text), 11))\n",
        "    for idx, label_list in enumerate(examples['labels']):\n",
        "        if len(label_list) == 0:\n",
        "            labels_matrix[idx, 10] = 1.0\n",
        "        else:\n",
        "            for label in label_list:\n",
        "                labels_matrix[idx, label] = 1.0\n",
        "    encoding[\"vectorized_label\"] = labels_matrix.tolist()\n",
        "    return encoding\n",
        "\n",
        "tokenized_dataset = dataset.map(tokenize_function, \n",
        "                                batched=True,\n",
        "                                remove_columns=dataset['train'].column_names)\n",
        "\n",
        "tokenized_dataset.set_format('torch')\n",
        "train_dataset = tokenized_dataset[\"train\"].rename_column(\"vectorized_label\", \"labels\")\n",
        "val_dataset = tokenized_dataset[\"validation\"].rename_column(\"vectorized_label\", \"labels\")"
      ],
      "metadata": {
        "id": "pjMD2O8-h2mR"
      },
      "execution_count": null,
      "outputs": []
    },
    {
      "cell_type": "code",
      "source": [
        "metric_name = \"f1\"\n",
        "args = TrainingArguments(\n",
        "    f\"longformer-baseline\",\n",
        "    evaluation_strategy = \"epoch\",\n",
        "    save_strategy = \"epoch\",\n",
        "    learning_rate=2e-5,\n",
        "    per_device_train_batch_size=batch_size,\n",
        "    per_device_eval_batch_size=batch_size,\n",
        "    num_train_epochs=5,\n",
        "    weight_decay=0.01,\n",
        "    load_best_model_at_end=True,\n",
        "    metric_for_best_model=metric_name,\n",
        ")\n",
        "\n",
        "# source: https://jesusleal.io/2021/04/21/Longformer-multilabel-classification/\n",
        "def multi_label_metrics(predictions, labels, threshold=0.5):\n",
        "    sigmoid = torch.nn.Sigmoid()\n",
        "    probs = sigmoid(torch.Tensor(predictions))\n",
        "    y_pred = np.zeros(probs.shape)\n",
        "    y_pred[np.where(probs >= threshold)] = 1\n",
        "    y_true = labels\n",
        "    f1_micro_average = f1_score(y_true=y_true, y_pred=y_pred, average='micro')\n",
        "    roc_auc = roc_auc_score(y_true, y_pred, average = 'micro')\n",
        "    accuracy = accuracy_score(y_true, y_pred)\n",
        "    metrics = {'f1': f1_micro_average,\n",
        "               'roc_auc': roc_auc,\n",
        "               'accuracy': accuracy}\n",
        "    return metrics\n",
        "\n",
        "def compute_metrics(p: EvalPrediction):\n",
        "    preds = p.predictions[0] if isinstance(p.predictions, \n",
        "            tuple) else p.predictions\n",
        "    result = multi_label_metrics(\n",
        "        predictions=preds, \n",
        "        labels=p.label_ids)\n",
        "    return result\n",
        "\n",
        "trainer = Trainer(\n",
        "    lf,\n",
        "    args,\n",
        "    train_dataset=train_dataset,\n",
        "    eval_dataset=val_dataset,\n",
        "    tokenizer=tokenizer,\n",
        "    compute_metrics=compute_metrics\n",
        ")"
      ],
      "metadata": {
        "id": "U5AvJ-vmgzdh"
      },
      "execution_count": null,
      "outputs": []
    },
    {
      "cell_type": "code",
      "source": [
        "trainer.train()"
      ],
      "metadata": {
        "id": "2JrxlYgLiJNX"
      },
      "execution_count": null,
      "outputs": []
    }
  ]
}